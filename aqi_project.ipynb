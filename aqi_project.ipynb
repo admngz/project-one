{
 "cells": [
  {
   "cell_type": "code",
   "execution_count": 1,
   "id": "sharp-sunrise",
   "metadata": {},
   "outputs": [],
   "source": [
    "import pandas as pd\n",
    "import numpy as np \n",
    "import requests\n",
    "import json\n",
    "from pprint import pprint\n",
    "from config import key_dict\n",
    "from datetime import datetime\n",
    "import time\n",
    "import gmaps"
   ]
  },
  {
   "cell_type": "code",
   "execution_count": 2,
   "id": "unauthorized-richardson",
   "metadata": {},
   "outputs": [],
   "source": [
    "base_url = \"http://api.openweathermap.org/data/2.5/air_pollution/history?\"\n",
    "key = key_dict['owm']\n",
    "sd_lat = 32.7157\n",
    "sd_lng = -117.1611\n",
    "\n",
    "sf_lat = 37.7749\n",
    "sf_lng = -122.4194\n",
    "\n",
    "start = 1614585600 #march 1     #1521356400 #sunday march 18th 2018\n",
    "end = 1616050800 #sunday march 18th 2021"
   ]
  },
  {
   "cell_type": "code",
   "execution_count": 3,
   "id": "presidential-taiwan",
   "metadata": {},
   "outputs": [],
   "source": [
    "sd_url = f\"{base_url}lat={sd_lat}&lon={sd_lng}&start={start}&end={end}&appid={key}\"\n",
    "\n",
    "sd_data = requests.get(sd_url).json()\n",
    "\n",
    "sf_url = f\"{base_url}lat={sf_lat}&lon={sf_lng}&start={start}&end={end}&appid={key}\"\n",
    "\n",
    "sf_data = requests.get(sf_url).json()"
   ]
  },
  {
   "cell_type": "code",
   "execution_count": 4,
   "id": "middle-douglas",
   "metadata": {},
   "outputs": [],
   "source": [
    "sd_aqi_df = pd.DataFrame(columns = ['Date','Lat','Long','Components'])\n",
    "\n",
    "for i in range(len(sd_data['list'])):\n",
    "\n",
    "    components = sd_data['list'][i]['components']\n",
    "\n",
    "    sd_aqi_df = sd_aqi_df.append({'Date':datetime.fromtimestamp(sd_data['list'][i]['dt']),\n",
    "                                'Lat':sd_data['coord']['lat'], 'Long':sd_data['coord']['lon'],\n",
    "                              'AQI':sd_data['list'][i]['main']['aqi'],\n",
    "                                  'Components':sd_data['list'][i]['components']}, ignore_index = True)\n",
    "\n",
    "sd_aqi_df.set_index('Date', inplace = True)    \n",
    "\n",
    "\n"
   ]
  },
  {
   "cell_type": "code",
   "execution_count": 5,
   "id": "metric-warrior",
   "metadata": {
    "scrolled": false
   },
   "outputs": [
    {
     "data": {
      "text/html": [
       "<div>\n",
       "<style scoped>\n",
       "    .dataframe tbody tr th:only-of-type {\n",
       "        vertical-align: middle;\n",
       "    }\n",
       "\n",
       "    .dataframe tbody tr th {\n",
       "        vertical-align: top;\n",
       "    }\n",
       "\n",
       "    .dataframe thead th {\n",
       "        text-align: right;\n",
       "    }\n",
       "</style>\n",
       "<table border=\"1\" class=\"dataframe\">\n",
       "  <thead>\n",
       "    <tr style=\"text-align: right;\">\n",
       "      <th></th>\n",
       "      <th>Lat</th>\n",
       "      <th>Long</th>\n",
       "      <th>Components</th>\n",
       "      <th>AQI</th>\n",
       "    </tr>\n",
       "    <tr>\n",
       "      <th>Date</th>\n",
       "      <th></th>\n",
       "      <th></th>\n",
       "      <th></th>\n",
       "      <th></th>\n",
       "    </tr>\n",
       "  </thead>\n",
       "  <tbody>\n",
       "    <tr>\n",
       "      <th>2021-03-01 00:00:00</th>\n",
       "      <td>37.7749</td>\n",
       "      <td>-122.4194</td>\n",
       "      <td>{'co': 961.3, 'no': 61.69, 'no2': 85, 'o3': 0,...</td>\n",
       "      <td>4.0</td>\n",
       "    </tr>\n",
       "    <tr>\n",
       "      <th>2021-03-01 01:00:00</th>\n",
       "      <td>37.7749</td>\n",
       "      <td>-122.4194</td>\n",
       "      <td>{'co': 988.01, 'no': 64.37, 'no2': 86.37, 'o3'...</td>\n",
       "      <td>4.0</td>\n",
       "    </tr>\n",
       "    <tr>\n",
       "      <th>2021-03-01 02:00:00</th>\n",
       "      <td>37.7749</td>\n",
       "      <td>-122.4194</td>\n",
       "      <td>{'co': 921.25, 'no': 56.77, 'no2': 76.08, 'o3'...</td>\n",
       "      <td>4.0</td>\n",
       "    </tr>\n",
       "    <tr>\n",
       "      <th>2021-03-01 03:00:00</th>\n",
       "      <td>37.7749</td>\n",
       "      <td>-122.4194</td>\n",
       "      <td>{'co': 881.2, 'no': 49.62, 'no2': 71.29, 'o3':...</td>\n",
       "      <td>4.0</td>\n",
       "    </tr>\n",
       "    <tr>\n",
       "      <th>2021-03-01 04:00:00</th>\n",
       "      <td>37.7749</td>\n",
       "      <td>-122.4194</td>\n",
       "      <td>{'co': 867.84, 'no': 40.68, 'no2': 74.71, 'o3'...</td>\n",
       "      <td>4.0</td>\n",
       "    </tr>\n",
       "    <tr>\n",
       "      <th>...</th>\n",
       "      <td>...</td>\n",
       "      <td>...</td>\n",
       "      <td>...</td>\n",
       "      <td>...</td>\n",
       "    </tr>\n",
       "    <tr>\n",
       "      <th>2021-03-17 20:00:00</th>\n",
       "      <td>37.7749</td>\n",
       "      <td>-122.4194</td>\n",
       "      <td>{'co': 253.68, 'no': 0, 'no2': 9.25, 'o3': 92....</td>\n",
       "      <td>2.0</td>\n",
       "    </tr>\n",
       "    <tr>\n",
       "      <th>2021-03-17 21:00:00</th>\n",
       "      <td>37.7749</td>\n",
       "      <td>-122.4194</td>\n",
       "      <td>{'co': 260.35, 'no': 0, 'no2': 10.88, 'o3': 90...</td>\n",
       "      <td>2.0</td>\n",
       "    </tr>\n",
       "    <tr>\n",
       "      <th>2021-03-17 22:00:00</th>\n",
       "      <td>37.7749</td>\n",
       "      <td>-122.4194</td>\n",
       "      <td>{'co': 263.69, 'no': 0, 'no2': 11.82, 'o3': 88...</td>\n",
       "      <td>2.0</td>\n",
       "    </tr>\n",
       "    <tr>\n",
       "      <th>2021-03-17 23:00:00</th>\n",
       "      <td>37.7749</td>\n",
       "      <td>-122.4194</td>\n",
       "      <td>{'co': 260.35, 'no': 0, 'no2': 12.17, 'o3': 87...</td>\n",
       "      <td>2.0</td>\n",
       "    </tr>\n",
       "    <tr>\n",
       "      <th>2021-03-18 00:00:00</th>\n",
       "      <td>37.7749</td>\n",
       "      <td>-122.4194</td>\n",
       "      <td>{'co': 253.68, 'no': 0, 'no2': 11.31, 'o3': 85...</td>\n",
       "      <td>2.0</td>\n",
       "    </tr>\n",
       "  </tbody>\n",
       "</table>\n",
       "<p>408 rows × 4 columns</p>\n",
       "</div>"
      ],
      "text/plain": [
       "                         Lat      Long  \\\n",
       "Date                                     \n",
       "2021-03-01 00:00:00  37.7749 -122.4194   \n",
       "2021-03-01 01:00:00  37.7749 -122.4194   \n",
       "2021-03-01 02:00:00  37.7749 -122.4194   \n",
       "2021-03-01 03:00:00  37.7749 -122.4194   \n",
       "2021-03-01 04:00:00  37.7749 -122.4194   \n",
       "...                      ...       ...   \n",
       "2021-03-17 20:00:00  37.7749 -122.4194   \n",
       "2021-03-17 21:00:00  37.7749 -122.4194   \n",
       "2021-03-17 22:00:00  37.7749 -122.4194   \n",
       "2021-03-17 23:00:00  37.7749 -122.4194   \n",
       "2021-03-18 00:00:00  37.7749 -122.4194   \n",
       "\n",
       "                                                            Components  AQI  \n",
       "Date                                                                         \n",
       "2021-03-01 00:00:00  {'co': 961.3, 'no': 61.69, 'no2': 85, 'o3': 0,...  4.0  \n",
       "2021-03-01 01:00:00  {'co': 988.01, 'no': 64.37, 'no2': 86.37, 'o3'...  4.0  \n",
       "2021-03-01 02:00:00  {'co': 921.25, 'no': 56.77, 'no2': 76.08, 'o3'...  4.0  \n",
       "2021-03-01 03:00:00  {'co': 881.2, 'no': 49.62, 'no2': 71.29, 'o3':...  4.0  \n",
       "2021-03-01 04:00:00  {'co': 867.84, 'no': 40.68, 'no2': 74.71, 'o3'...  4.0  \n",
       "...                                                                ...  ...  \n",
       "2021-03-17 20:00:00  {'co': 253.68, 'no': 0, 'no2': 9.25, 'o3': 92....  2.0  \n",
       "2021-03-17 21:00:00  {'co': 260.35, 'no': 0, 'no2': 10.88, 'o3': 90...  2.0  \n",
       "2021-03-17 22:00:00  {'co': 263.69, 'no': 0, 'no2': 11.82, 'o3': 88...  2.0  \n",
       "2021-03-17 23:00:00  {'co': 260.35, 'no': 0, 'no2': 12.17, 'o3': 87...  2.0  \n",
       "2021-03-18 00:00:00  {'co': 253.68, 'no': 0, 'no2': 11.31, 'o3': 85...  2.0  \n",
       "\n",
       "[408 rows x 4 columns]"
      ]
     },
     "execution_count": 5,
     "metadata": {},
     "output_type": "execute_result"
    }
   ],
   "source": [
    "sf_aqi_df = pd.DataFrame(columns = ['Date','Lat','Long','Components'])\n",
    "\n",
    "for i in range(len(sf_data['list'])):\n",
    "\n",
    "    components = sf_data['list'][i]['components']\n",
    "\n",
    "    sf_aqi_df = sf_aqi_df.append({'Date':datetime.fromtimestamp(sf_data['list'][i]['dt']),\n",
    "                                'Lat':sf_data['coord']['lat'], 'Long':sf_data['coord']['lon'],\n",
    "                              'AQI':sf_data['list'][i]['main']['aqi'],\n",
    "                                  'Components':sf_data['list'][i]['components']}, ignore_index = True)\n",
    "    \n",
    "sf_aqi_df.set_index('Date', inplace = True)\n",
    "sf_aqi_df\n",
    "\n",
    "\n"
   ]
  },
  {
   "cell_type": "code",
   "execution_count": 12,
   "id": "unlikely-jersey",
   "metadata": {},
   "outputs": [],
   "source": [
    "test_final_df = sf_aqi_df.append(sd_aqi_df).sort_index()\n",
    "test_final_df = test_final_df.loc[test_final_df.index.hour == 0,:]"
   ]
  },
  {
   "cell_type": "code",
   "execution_count": 52,
   "id": "surrounded-bermuda",
   "metadata": {
    "scrolled": true
   },
   "outputs": [
    {
     "data": {
      "text/plain": [
       "Date\n",
       "2021-03-01    4.0\n",
       "2021-03-01    2.0\n",
       "2021-03-02    4.0\n",
       "2021-03-02    4.0\n",
       "2021-03-03    4.0\n",
       "2021-03-03    5.0\n",
       "2021-03-04    1.0\n",
       "2021-03-04    2.0\n",
       "2021-03-05    2.0\n",
       "2021-03-05    4.0\n",
       "2021-03-06    2.0\n",
       "2021-03-06    4.0\n",
       "2021-03-07    1.0\n",
       "2021-03-07    1.0\n",
       "2021-03-08    1.0\n",
       "2021-03-08    2.0\n",
       "2021-03-09    2.0\n",
       "2021-03-09    1.0\n",
       "2021-03-10    2.0\n",
       "2021-03-10    2.0\n",
       "2021-03-11    2.0\n",
       "2021-03-11    2.0\n",
       "2021-03-12    1.0\n",
       "2021-03-12    4.0\n",
       "2021-03-13    4.0\n",
       "2021-03-13    2.0\n",
       "2021-03-14    2.0\n",
       "2021-03-14    1.0\n",
       "2021-03-15    2.0\n",
       "2021-03-15    1.0\n",
       "2021-03-16    1.0\n",
       "2021-03-16    2.0\n",
       "2021-03-17    3.0\n",
       "2021-03-17    2.0\n",
       "2021-03-18    2.0\n",
       "2021-03-18    2.0\n",
       "Name: AQI, dtype: float64"
      ]
     },
     "execution_count": 52,
     "metadata": {},
     "output_type": "execute_result"
    }
   ],
   "source": [
    "test_final_df['AQI']"
   ]
  },
  {
   "cell_type": "code",
   "execution_count": 9,
   "id": "available-indianapolis",
   "metadata": {},
   "outputs": [],
   "source": [
    "from ipywidgets.embed import embed_minimal_html\n",
    "from IPython.display import display\n",
    "\n",
    "gmaps.configure(api_key = key_dict['google'])"
   ]
  },
  {
   "cell_type": "code",
   "execution_count": 55,
   "id": "divided-feedback",
   "metadata": {},
   "outputs": [],
   "source": [
    "\n",
    "# credit to pbugnion on github; small adjustments for personal keys/indexes, accepting dataframe format, etc\n",
    "# https://github.com/pbugnion/gmaps/issues/216\n",
    "\n",
    "\n",
    "class HeatmapAnimation(object):\n",
    "    \n",
    "    def __init__(self, datasets):\n",
    "        self._datasets = datasets\n",
    "        self._figure = gmaps.figure(center=(37.0, -120.0), zoom_level=5)\n",
    "        self._index_count = 0\n",
    "        self._current_index = datasets.index.unique()[self._index_count]\n",
    "        self._heatmap = gmaps.heatmap_layer(locations = datasets.loc[datasets.index == self._current_index,['Lat','Long']],\n",
    "                                            weights = datasets.loc[datasets.index == self._current_index,'AQI'],\n",
    "                                           max_intensity = datasets['AQI'].max(), point_radius = 30)\n",
    "        self._figure.add_layer(self._heatmap)\n",
    "        \n",
    "    def render(self):\n",
    "        return display(self._figure)\n",
    "    \n",
    "    def start_animation(self):\n",
    "        while True:\n",
    "            self._index_count = self._index_count + 1\n",
    "            try:\n",
    "                self._current_index = self._datasets.index.unique()[self._index_count]\n",
    "            except IndexError:\n",
    "                self._index_count = 0\n",
    "                self._current_index = self._datasets.index.unique()[self._index_count]\n",
    "            self._render_current_dataset()\n",
    "            time.sleep(0.25)\n",
    "    \n",
    "    def _render_current_dataset(self):\n",
    "        self._heatmap.locations = self._datasets.loc[self._datasets.index == \n",
    "                                               self._current_index,['Lat','Long']] # update the locations drawn on the heatmap\n",
    "        self._heatmap.weights = self._datasets.loc[self._datasets.index == \n",
    "                                             self._current_index,'AQI']\n",
    "\n",
    "        \n",
    "\n"
   ]
  },
  {
   "cell_type": "code",
   "execution_count": 57,
   "id": "velvet-trail",
   "metadata": {
    "scrolled": false
   },
   "outputs": [
    {
     "data": {
      "application/vnd.jupyter.widget-view+json": {
       "model_id": "6b785bc433ad48b5b70f5b44d286afb5",
       "version_major": 2,
       "version_minor": 0
      },
      "text/plain": [
       "Figure(layout=FigureLayout(height='420px'))"
      ]
     },
     "metadata": {},
     "output_type": "display_data"
    },
    {
     "ename": "KeyboardInterrupt",
     "evalue": "",
     "output_type": "error",
     "traceback": [
      "\u001b[1;31m---------------------------------------------------------------------------\u001b[0m",
      "\u001b[1;31mKeyboardInterrupt\u001b[0m                         Traceback (most recent call last)",
      "\u001b[1;32m<ipython-input-57-54cba56532dd>\u001b[0m in \u001b[0;36m<module>\u001b[1;34m\u001b[0m\n\u001b[0;32m      1\u001b[0m \u001b[0manimation\u001b[0m \u001b[1;33m=\u001b[0m \u001b[0mHeatmapAnimation\u001b[0m\u001b[1;33m(\u001b[0m\u001b[0mtest_final_df\u001b[0m\u001b[1;33m)\u001b[0m\u001b[1;33m\u001b[0m\u001b[1;33m\u001b[0m\u001b[0m\n\u001b[0;32m      2\u001b[0m \u001b[0manimation\u001b[0m\u001b[1;33m.\u001b[0m\u001b[0mrender\u001b[0m\u001b[1;33m(\u001b[0m\u001b[1;33m)\u001b[0m\u001b[1;33m\u001b[0m\u001b[1;33m\u001b[0m\u001b[0m\n\u001b[1;32m----> 3\u001b[1;33m \u001b[0manimation\u001b[0m\u001b[1;33m.\u001b[0m\u001b[0mstart_animation\u001b[0m\u001b[1;33m(\u001b[0m\u001b[1;33m)\u001b[0m\u001b[1;33m\u001b[0m\u001b[1;33m\u001b[0m\u001b[0m\n\u001b[0m",
      "\u001b[1;32m<ipython-input-55-cd3a13e32448>\u001b[0m in \u001b[0;36mstart_animation\u001b[1;34m(self)\u001b[0m\n\u001b[0;32m     27\u001b[0m                 \u001b[0mself\u001b[0m\u001b[1;33m.\u001b[0m\u001b[0m_current_index\u001b[0m \u001b[1;33m=\u001b[0m \u001b[0mself\u001b[0m\u001b[1;33m.\u001b[0m\u001b[0m_datasets\u001b[0m\u001b[1;33m.\u001b[0m\u001b[0mindex\u001b[0m\u001b[1;33m.\u001b[0m\u001b[0munique\u001b[0m\u001b[1;33m(\u001b[0m\u001b[1;33m)\u001b[0m\u001b[1;33m[\u001b[0m\u001b[0mself\u001b[0m\u001b[1;33m.\u001b[0m\u001b[0m_index_count\u001b[0m\u001b[1;33m]\u001b[0m\u001b[1;33m\u001b[0m\u001b[1;33m\u001b[0m\u001b[0m\n\u001b[0;32m     28\u001b[0m             \u001b[0mself\u001b[0m\u001b[1;33m.\u001b[0m\u001b[0m_render_current_dataset\u001b[0m\u001b[1;33m(\u001b[0m\u001b[1;33m)\u001b[0m\u001b[1;33m\u001b[0m\u001b[1;33m\u001b[0m\u001b[0m\n\u001b[1;32m---> 29\u001b[1;33m             \u001b[0mtime\u001b[0m\u001b[1;33m.\u001b[0m\u001b[0msleep\u001b[0m\u001b[1;33m(\u001b[0m\u001b[1;36m0.25\u001b[0m\u001b[1;33m)\u001b[0m\u001b[1;33m\u001b[0m\u001b[1;33m\u001b[0m\u001b[0m\n\u001b[0m\u001b[0;32m     30\u001b[0m \u001b[1;33m\u001b[0m\u001b[0m\n\u001b[0;32m     31\u001b[0m     \u001b[1;32mdef\u001b[0m \u001b[0m_render_current_dataset\u001b[0m\u001b[1;33m(\u001b[0m\u001b[0mself\u001b[0m\u001b[1;33m)\u001b[0m\u001b[1;33m:\u001b[0m\u001b[1;33m\u001b[0m\u001b[1;33m\u001b[0m\u001b[0m\n",
      "\u001b[1;31mKeyboardInterrupt\u001b[0m: "
     ]
    }
   ],
   "source": [
    "animation = HeatmapAnimation(test_final_df)\n",
    "animation.render()\n",
    "animation.start_animation()\n"
   ]
  },
  {
   "cell_type": "code",
   "execution_count": 40,
   "id": "coordinate-netscape",
   "metadata": {
    "collapsed": true
   },
   "outputs": [
    {
     "ename": "KeyError",
     "evalue": "('Lat_sf', 'Lat_sd')",
     "output_type": "error",
     "traceback": [
      "\u001b[1;31m---------------------------------------------------------------------------\u001b[0m",
      "\u001b[1;31mKeyError\u001b[0m                                  Traceback (most recent call last)",
      "\u001b[1;32mF:\\anaconda\\envs\\PythonData\\lib\\site-packages\\pandas\\core\\indexes\\base.py\u001b[0m in \u001b[0;36mget_loc\u001b[1;34m(self, key, method, tolerance)\u001b[0m\n\u001b[0;32m   2645\u001b[0m             \u001b[1;32mtry\u001b[0m\u001b[1;33m:\u001b[0m\u001b[1;33m\u001b[0m\u001b[1;33m\u001b[0m\u001b[0m\n\u001b[1;32m-> 2646\u001b[1;33m                 \u001b[1;32mreturn\u001b[0m \u001b[0mself\u001b[0m\u001b[1;33m.\u001b[0m\u001b[0m_engine\u001b[0m\u001b[1;33m.\u001b[0m\u001b[0mget_loc\u001b[0m\u001b[1;33m(\u001b[0m\u001b[0mkey\u001b[0m\u001b[1;33m)\u001b[0m\u001b[1;33m\u001b[0m\u001b[1;33m\u001b[0m\u001b[0m\n\u001b[0m\u001b[0;32m   2647\u001b[0m             \u001b[1;32mexcept\u001b[0m \u001b[0mKeyError\u001b[0m\u001b[1;33m:\u001b[0m\u001b[1;33m\u001b[0m\u001b[1;33m\u001b[0m\u001b[0m\n",
      "\u001b[1;32mpandas\\_libs\\index.pyx\u001b[0m in \u001b[0;36mpandas._libs.index.IndexEngine.get_loc\u001b[1;34m()\u001b[0m\n",
      "\u001b[1;32mpandas\\_libs\\index.pyx\u001b[0m in \u001b[0;36mpandas._libs.index.IndexEngine.get_loc\u001b[1;34m()\u001b[0m\n",
      "\u001b[1;32mpandas\\_libs\\hashtable_class_helper.pxi\u001b[0m in \u001b[0;36mpandas._libs.hashtable.PyObjectHashTable.get_item\u001b[1;34m()\u001b[0m\n",
      "\u001b[1;32mpandas\\_libs\\hashtable_class_helper.pxi\u001b[0m in \u001b[0;36mpandas._libs.hashtable.PyObjectHashTable.get_item\u001b[1;34m()\u001b[0m\n",
      "\u001b[1;31mKeyError\u001b[0m: ('Lat_sf', 'Lat_sd')",
      "\nDuring handling of the above exception, another exception occurred:\n",
      "\u001b[1;31mKeyError\u001b[0m                                  Traceback (most recent call last)",
      "\u001b[1;32m<ipython-input-40-ef20841fb623>\u001b[0m in \u001b[0;36m<module>\u001b[1;34m\u001b[0m\n\u001b[0;32m     18\u001b[0m \u001b[1;33m\u001b[0m\u001b[0m\n\u001b[0;32m     19\u001b[0m \u001b[1;33m\u001b[0m\u001b[0m\n\u001b[1;32m---> 20\u001b[1;33m \u001b[0mlocation\u001b[0m \u001b[1;33m=\u001b[0m \u001b[0mtest_final_df\u001b[0m\u001b[1;33m[\u001b[0m\u001b[1;33m[\u001b[0m\u001b[1;34m'Lat_sf'\u001b[0m\u001b[1;33m,\u001b[0m\u001b[1;34m'Long_sf'\u001b[0m\u001b[1;33m]\u001b[0m\u001b[1;33m[\u001b[0m\u001b[1;36m0\u001b[0m\u001b[1;33m]\u001b[0m\u001b[1;33m,\u001b[0m\u001b[1;33m[\u001b[0m\u001b[1;34m'Lat_sd'\u001b[0m\u001b[1;33m,\u001b[0m\u001b[1;34m'Long_sd'\u001b[0m\u001b[1;33m]\u001b[0m\u001b[1;33m[\u001b[0m\u001b[1;36m0\u001b[0m\u001b[1;33m]\u001b[0m\u001b[1;33m]\u001b[0m\u001b[1;33m\u001b[0m\u001b[1;33m\u001b[0m\u001b[0m\n\u001b[0m\u001b[0;32m     21\u001b[0m \u001b[1;33m\u001b[0m\u001b[0m\n\u001b[0;32m     22\u001b[0m \u001b[1;33m\u001b[0m\u001b[0m\n",
      "\u001b[1;32mF:\\anaconda\\envs\\PythonData\\lib\\site-packages\\pandas\\core\\frame.py\u001b[0m in \u001b[0;36m__getitem__\u001b[1;34m(self, key)\u001b[0m\n\u001b[0;32m   2798\u001b[0m             \u001b[1;32mif\u001b[0m \u001b[0mself\u001b[0m\u001b[1;33m.\u001b[0m\u001b[0mcolumns\u001b[0m\u001b[1;33m.\u001b[0m\u001b[0mnlevels\u001b[0m \u001b[1;33m>\u001b[0m \u001b[1;36m1\u001b[0m\u001b[1;33m:\u001b[0m\u001b[1;33m\u001b[0m\u001b[1;33m\u001b[0m\u001b[0m\n\u001b[0;32m   2799\u001b[0m                 \u001b[1;32mreturn\u001b[0m \u001b[0mself\u001b[0m\u001b[1;33m.\u001b[0m\u001b[0m_getitem_multilevel\u001b[0m\u001b[1;33m(\u001b[0m\u001b[0mkey\u001b[0m\u001b[1;33m)\u001b[0m\u001b[1;33m\u001b[0m\u001b[1;33m\u001b[0m\u001b[0m\n\u001b[1;32m-> 2800\u001b[1;33m             \u001b[0mindexer\u001b[0m \u001b[1;33m=\u001b[0m \u001b[0mself\u001b[0m\u001b[1;33m.\u001b[0m\u001b[0mcolumns\u001b[0m\u001b[1;33m.\u001b[0m\u001b[0mget_loc\u001b[0m\u001b[1;33m(\u001b[0m\u001b[0mkey\u001b[0m\u001b[1;33m)\u001b[0m\u001b[1;33m\u001b[0m\u001b[1;33m\u001b[0m\u001b[0m\n\u001b[0m\u001b[0;32m   2801\u001b[0m             \u001b[1;32mif\u001b[0m \u001b[0mis_integer\u001b[0m\u001b[1;33m(\u001b[0m\u001b[0mindexer\u001b[0m\u001b[1;33m)\u001b[0m\u001b[1;33m:\u001b[0m\u001b[1;33m\u001b[0m\u001b[1;33m\u001b[0m\u001b[0m\n\u001b[0;32m   2802\u001b[0m                 \u001b[0mindexer\u001b[0m \u001b[1;33m=\u001b[0m \u001b[1;33m[\u001b[0m\u001b[0mindexer\u001b[0m\u001b[1;33m]\u001b[0m\u001b[1;33m\u001b[0m\u001b[1;33m\u001b[0m\u001b[0m\n",
      "\u001b[1;32mF:\\anaconda\\envs\\PythonData\\lib\\site-packages\\pandas\\core\\indexes\\base.py\u001b[0m in \u001b[0;36mget_loc\u001b[1;34m(self, key, method, tolerance)\u001b[0m\n\u001b[0;32m   2646\u001b[0m                 \u001b[1;32mreturn\u001b[0m \u001b[0mself\u001b[0m\u001b[1;33m.\u001b[0m\u001b[0m_engine\u001b[0m\u001b[1;33m.\u001b[0m\u001b[0mget_loc\u001b[0m\u001b[1;33m(\u001b[0m\u001b[0mkey\u001b[0m\u001b[1;33m)\u001b[0m\u001b[1;33m\u001b[0m\u001b[1;33m\u001b[0m\u001b[0m\n\u001b[0;32m   2647\u001b[0m             \u001b[1;32mexcept\u001b[0m \u001b[0mKeyError\u001b[0m\u001b[1;33m:\u001b[0m\u001b[1;33m\u001b[0m\u001b[1;33m\u001b[0m\u001b[0m\n\u001b[1;32m-> 2648\u001b[1;33m                 \u001b[1;32mreturn\u001b[0m \u001b[0mself\u001b[0m\u001b[1;33m.\u001b[0m\u001b[0m_engine\u001b[0m\u001b[1;33m.\u001b[0m\u001b[0mget_loc\u001b[0m\u001b[1;33m(\u001b[0m\u001b[0mself\u001b[0m\u001b[1;33m.\u001b[0m\u001b[0m_maybe_cast_indexer\u001b[0m\u001b[1;33m(\u001b[0m\u001b[0mkey\u001b[0m\u001b[1;33m)\u001b[0m\u001b[1;33m)\u001b[0m\u001b[1;33m\u001b[0m\u001b[1;33m\u001b[0m\u001b[0m\n\u001b[0m\u001b[0;32m   2649\u001b[0m         \u001b[0mindexer\u001b[0m \u001b[1;33m=\u001b[0m \u001b[0mself\u001b[0m\u001b[1;33m.\u001b[0m\u001b[0mget_indexer\u001b[0m\u001b[1;33m(\u001b[0m\u001b[1;33m[\u001b[0m\u001b[0mkey\u001b[0m\u001b[1;33m]\u001b[0m\u001b[1;33m,\u001b[0m \u001b[0mmethod\u001b[0m\u001b[1;33m=\u001b[0m\u001b[0mmethod\u001b[0m\u001b[1;33m,\u001b[0m \u001b[0mtolerance\u001b[0m\u001b[1;33m=\u001b[0m\u001b[0mtolerance\u001b[0m\u001b[1;33m)\u001b[0m\u001b[1;33m\u001b[0m\u001b[1;33m\u001b[0m\u001b[0m\n\u001b[0;32m   2650\u001b[0m         \u001b[1;32mif\u001b[0m \u001b[0mindexer\u001b[0m\u001b[1;33m.\u001b[0m\u001b[0mndim\u001b[0m \u001b[1;33m>\u001b[0m \u001b[1;36m1\u001b[0m \u001b[1;32mor\u001b[0m \u001b[0mindexer\u001b[0m\u001b[1;33m.\u001b[0m\u001b[0msize\u001b[0m \u001b[1;33m>\u001b[0m \u001b[1;36m1\u001b[0m\u001b[1;33m:\u001b[0m\u001b[1;33m\u001b[0m\u001b[1;33m\u001b[0m\u001b[0m\n",
      "\u001b[1;32mpandas\\_libs\\index.pyx\u001b[0m in \u001b[0;36mpandas._libs.index.IndexEngine.get_loc\u001b[1;34m()\u001b[0m\n",
      "\u001b[1;32mpandas\\_libs\\index.pyx\u001b[0m in \u001b[0;36mpandas._libs.index.IndexEngine.get_loc\u001b[1;34m()\u001b[0m\n",
      "\u001b[1;32mpandas\\_libs\\hashtable_class_helper.pxi\u001b[0m in \u001b[0;36mpandas._libs.hashtable.PyObjectHashTable.get_item\u001b[1;34m()\u001b[0m\n",
      "\u001b[1;32mpandas\\_libs\\hashtable_class_helper.pxi\u001b[0m in \u001b[0;36mpandas._libs.hashtable.PyObjectHashTable.get_item\u001b[1;34m()\u001b[0m\n",
      "\u001b[1;31mKeyError\u001b[0m: ('Lat_sf', 'Lat_sd')"
     ]
    }
   ],
   "source": [
    "#now figure out timesieries heatmap\n",
    "# don't run this until you can figure out WHAT calls the api key. If it's just the base map, you're fine.\n",
    "# if it's the heatmap layer too, that's a problem. \n",
    "\n",
    "\n",
    "\n",
    "#I've turned this cell into text for safety purposes so I don't accidentally run up a huge number of api calls\n",
    "\n",
    "\"\"\"\n",
    "#update 1am 3/23/21, I believe the next form of action if I want to generate a heatmap that changes over time\n",
    "is to plot heatmap style colors individually, rather than rely on the heatmap function. data would look like\n",
    "(x, y, intensity) sbut only take in 1 set of values from the df, where we've already computed the relative intensity \n",
    "on a 0-1 scale or something like that. We can then create a range of colors, from green to red (there's probably a color \n",
    "pack for this), and plotthose colors individually through a loop \n",
    "\"\"\"\n",
    "\n",
    "fig = gmaps.figure()\n",
    "\n",
    "\n",
    "location = test_final_df[['Lat_sf','Long_sf'][0],['Lat_sd','Long_sd'][0]]\n",
    "\n",
    "\n",
    "aqi_layer = gmaps.heatmap_layer(location, weights = aqi_df.iloc[0,2],\n",
    "                                max_intensity = aqi_df['AQI'].max(),\n",
    "                               dissipating = False)\n",
    "                               \n",
    "                               #I believe the above doesn't work because it's looking for multiple locations and weights\n",
    "                               \n",
    "                               \n",
    "fig.add_layer(aqi_layer)\n",
    "\n",
    "fig\n",
    "time.sleep(0.2)\n"
   ]
  },
  {
   "cell_type": "code",
   "execution_count": 43,
   "id": "natural-grade",
   "metadata": {
    "scrolled": true
   },
   "outputs": [
    {
     "data": {
      "application/vnd.jupyter.widget-view+json": {
       "model_id": "48bf111f9b7b464589f64c60cca27005",
       "version_major": 2,
       "version_minor": 0
      },
      "text/plain": [
       "Figure(layout=FigureLayout(height='420px'))"
      ]
     },
     "metadata": {},
     "output_type": "display_data"
    }
   ],
   "source": [
    "test_figure = gmaps.figure()\n",
    "\n",
    "location = test_final_df.loc[test_final_df.index == pd.Timestamp('2021-03-01 00:00:00'),['Lat','Long']]\n",
    "\n",
    "weights = test_final_df.loc[test_final_df.index == pd.Timestamp('2021-03-01 00:00:00'), 'AQI']\n",
    "\n",
    "max_intensity = test_final_df.loc[:, 'AQI'].max()\n",
    "\n",
    "\n",
    "heatlayer = gmaps.heatmap_layer(locations = location, weights = weights, max_intensity = max_intensity,\n",
    "                               dissipating = False, point_radius = 1)\n",
    "\n",
    "test_figure.add_layer(heatlayer)\n",
    "test_figure"
   ]
  },
  {
   "cell_type": "code",
   "execution_count": 34,
   "id": "ranking-going",
   "metadata": {},
   "outputs": [
    {
     "data": {
      "text/plain": [
       "5.0"
      ]
     },
     "execution_count": 34,
     "metadata": {},
     "output_type": "execute_result"
    }
   ],
   "source": []
  },
  {
   "cell_type": "code",
   "execution_count": 44,
   "id": "collective-label",
   "metadata": {},
   "outputs": [],
   "source": [
    "heatlayer.weights = [2.0,2]"
   ]
  }
 ],
 "metadata": {
  "kernelspec": {
   "display_name": "Python [conda env:PythonData] *",
   "language": "python",
   "name": "conda-env-PythonData-py"
  },
  "language_info": {
   "codemirror_mode": {
    "name": "ipython",
    "version": 3
   },
   "file_extension": ".py",
   "mimetype": "text/x-python",
   "name": "python",
   "nbconvert_exporter": "python",
   "pygments_lexer": "ipython3",
   "version": "3.6.10"
  }
 },
 "nbformat": 4,
 "nbformat_minor": 5
}
